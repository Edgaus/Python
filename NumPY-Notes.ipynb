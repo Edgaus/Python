{
  "nbformat": 4,
  "nbformat_minor": 0,
  "metadata": {
    "colab": {
      "provenance": [],
      "authorship_tag": "ABX9TyP+S12oG4Pf2TCUTORcOuX/",
      "include_colab_link": true
    },
    "kernelspec": {
      "name": "python3",
      "display_name": "Python 3"
    },
    "language_info": {
      "name": "python"
    }
  },
  "cells": [
    {
      "cell_type": "markdown",
      "metadata": {
        "id": "view-in-github",
        "colab_type": "text"
      },
      "source": [
        "<a href=\"https://colab.research.google.com/github/Edgaus/Python-notes/blob/main/NumPY-Notes.ipynb\" target=\"_parent\"><img src=\"https://colab.research.google.com/assets/colab-badge.svg\" alt=\"Open In Colab\"/></a>"
      ]
    },
    {
      "cell_type": "code",
      "execution_count": null,
      "metadata": {
        "id": "FbCSFq95QObN"
      },
      "outputs": [],
      "source": [
        "import numpy as np"
      ]
    },
    {
      "cell_type": "code",
      "source": [
        "a = np.array([1,2,3])\n",
        "a"
      ],
      "metadata": {
        "colab": {
          "base_uri": "https://localhost:8080/"
        },
        "id": "G23Lgy2lQQ9a",
        "outputId": "84554986-445f-49a9-de39-c5f10074496b"
      },
      "execution_count": null,
      "outputs": [
        {
          "output_type": "execute_result",
          "data": {
            "text/plain": [
              "array([1, 2, 3])"
            ]
          },
          "metadata": {},
          "execution_count": 3
        }
      ]
    },
    {
      "cell_type": "code",
      "source": [
        "b = np.array([[9.0,8.0,7.0],[6.0,5.0,4.0]])\n",
        "b"
      ],
      "metadata": {
        "colab": {
          "base_uri": "https://localhost:8080/"
        },
        "id": "AQn7UMviQYRp",
        "outputId": "d068e0f4-9e1a-4e7f-ecb4-1070ba50cbe9"
      },
      "execution_count": null,
      "outputs": [
        {
          "output_type": "execute_result",
          "data": {
            "text/plain": [
              "array([[9., 8., 7.],\n",
              "       [6., 5., 4.]])"
            ]
          },
          "metadata": {},
          "execution_count": 4
        }
      ]
    },
    {
      "cell_type": "code",
      "source": [
        "a.ndim"
      ],
      "metadata": {
        "colab": {
          "base_uri": "https://localhost:8080/"
        },
        "id": "fEK7R3azRBEp",
        "outputId": "00c29a1f-69d5-4ca8-9ae4-4a668fefcd0f"
      },
      "execution_count": null,
      "outputs": [
        {
          "output_type": "execute_result",
          "data": {
            "text/plain": [
              "1"
            ]
          },
          "metadata": {},
          "execution_count": 5
        }
      ]
    },
    {
      "cell_type": "code",
      "source": [
        "b.shape"
      ],
      "metadata": {
        "colab": {
          "base_uri": "https://localhost:8080/"
        },
        "id": "Mo8BAxdxSGzy",
        "outputId": "a6deb249-c7a4-432d-8f52-ad3ae178bd3c"
      },
      "execution_count": null,
      "outputs": [
        {
          "output_type": "execute_result",
          "data": {
            "text/plain": [
              "(2, 3)"
            ]
          },
          "metadata": {},
          "execution_count": 6
        }
      ]
    },
    {
      "cell_type": "code",
      "source": [
        "#get type\n",
        "a.dtype"
      ],
      "metadata": {
        "colab": {
          "base_uri": "https://localhost:8080/"
        },
        "id": "T5eFKxsNSK95",
        "outputId": "2e9df6f5-200e-4a86-fd87-7a520a880b0e"
      },
      "execution_count": null,
      "outputs": [
        {
          "output_type": "execute_result",
          "data": {
            "text/plain": [
              "dtype('int64')"
            ]
          },
          "metadata": {},
          "execution_count": 7
        }
      ]
    },
    {
      "cell_type": "code",
      "source": [
        "a = np.array([[1,2,3,4,5,6,7,],[8,9,10,11,12,13,14]])\n",
        "a"
      ],
      "metadata": {
        "colab": {
          "base_uri": "https://localhost:8080/"
        },
        "id": "A7A4Xg3ZSXih",
        "outputId": "38d269f1-be8b-4a28-f6aa-19c020a6abe9"
      },
      "execution_count": null,
      "outputs": [
        {
          "output_type": "execute_result",
          "data": {
            "text/plain": [
              "array([[ 1,  2,  3,  4,  5,  6,  7],\n",
              "       [ 8,  9, 10, 11, 12, 13, 14]])"
            ]
          },
          "metadata": {},
          "execution_count": 8
        }
      ]
    },
    {
      "cell_type": "code",
      "source": [
        "#Get a specific elmenet [r,c]\n",
        "a[1,5]"
      ],
      "metadata": {
        "colab": {
          "base_uri": "https://localhost:8080/"
        },
        "id": "4SagDAadUB0x",
        "outputId": "77717b1c-fd1a-477a-aacd-523dbf7576b6"
      },
      "execution_count": null,
      "outputs": [
        {
          "output_type": "execute_result",
          "data": {
            "text/plain": [
              "13"
            ]
          },
          "metadata": {},
          "execution_count": 9
        }
      ]
    },
    {
      "cell_type": "code",
      "source": [
        "a[1,-2]"
      ],
      "metadata": {
        "colab": {
          "base_uri": "https://localhost:8080/"
        },
        "id": "XFljY1dLUK0h",
        "outputId": "d83df971-818e-45b4-e2bf-be88b2ff6fa2"
      },
      "execution_count": null,
      "outputs": [
        {
          "output_type": "execute_result",
          "data": {
            "text/plain": [
              "13"
            ]
          },
          "metadata": {},
          "execution_count": 10
        }
      ]
    },
    {
      "cell_type": "code",
      "source": [
        "#Get a specific row\n",
        "a[0,:]"
      ],
      "metadata": {
        "colab": {
          "base_uri": "https://localhost:8080/"
        },
        "id": "5you8HB5UO7Z",
        "outputId": "6c24962f-73a9-4f6e-dd8f-b6b02b633de5"
      },
      "execution_count": null,
      "outputs": [
        {
          "output_type": "execute_result",
          "data": {
            "text/plain": [
              "array([1, 2, 3, 4, 5, 6, 7])"
            ]
          },
          "metadata": {},
          "execution_count": 11
        }
      ]
    },
    {
      "cell_type": "code",
      "source": [
        "#Get a specific column"
      ],
      "metadata": {
        "id": "YcChKsPFUUZx"
      },
      "execution_count": null,
      "outputs": []
    },
    {
      "cell_type": "code",
      "source": [
        "a[:,0]"
      ],
      "metadata": {
        "colab": {
          "base_uri": "https://localhost:8080/"
        },
        "id": "CcqM7_0MUY8Y",
        "outputId": "7b6e7638-0436-4f67-f817-c1a7984a9d1a"
      },
      "execution_count": null,
      "outputs": [
        {
          "output_type": "execute_result",
          "data": {
            "text/plain": [
              "array([1, 8])"
            ]
          },
          "metadata": {},
          "execution_count": 13
        }
      ]
    },
    {
      "cell_type": "code",
      "source": [
        "#Getting more fancy [(row),start_index:end_index:steo_size(column)]\n",
        "a[:,1:6:2]"
      ],
      "metadata": {
        "colab": {
          "base_uri": "https://localhost:8080/"
        },
        "id": "pwQeIcJyUZ_g",
        "outputId": "2048488c-3860-4353-b277-ddcb9b27a0d8"
      },
      "execution_count": null,
      "outputs": [
        {
          "output_type": "execute_result",
          "data": {
            "text/plain": [
              "array([[ 2,  4,  6],\n",
              "       [ 9, 11, 13]])"
            ]
          },
          "metadata": {},
          "execution_count": 14
        }
      ]
    },
    {
      "cell_type": "code",
      "source": [
        "#Replace\n",
        "\n",
        "a[1,5]=20\n",
        "print(a)\n",
        "\n",
        "a[:,2] = [1,2]\n",
        "print(a)"
      ],
      "metadata": {
        "colab": {
          "base_uri": "https://localhost:8080/"
        },
        "id": "tv7oG9EnUr9A",
        "outputId": "c4012a53-9e68-4c64-998f-b31570f9bdfe"
      },
      "execution_count": null,
      "outputs": [
        {
          "output_type": "stream",
          "name": "stdout",
          "text": [
            "[[ 1  2  3  4  5  6  7]\n",
            " [ 8  9 10 11 12 20 14]]\n",
            "[[ 1  2  1  4  5  6  7]\n",
            " [ 8  9  2 11 12 20 14]]\n"
          ]
        }
      ]
    },
    {
      "cell_type": "code",
      "source": [
        "#3-D example\n",
        "b = np.array([[ [1,2],  [3,4], ],\n",
        "              [ [5,6],  [7,8]]    ])\n",
        "b"
      ],
      "metadata": {
        "colab": {
          "base_uri": "https://localhost:8080/"
        },
        "id": "pRjlQ2slVZMy",
        "outputId": "2e00d05d-afb1-4054-9c32-ea4f17a301e4"
      },
      "execution_count": null,
      "outputs": [
        {
          "output_type": "execute_result",
          "data": {
            "text/plain": [
              "array([[[1, 2],\n",
              "        [3, 4]],\n",
              "\n",
              "       [[5, 6],\n",
              "        [7, 8]]])"
            ]
          },
          "metadata": {},
          "execution_count": 16
        }
      ]
    },
    {
      "cell_type": "code",
      "source": [
        "#Get specific element\n",
        "b[0,1,1]"
      ],
      "metadata": {
        "colab": {
          "base_uri": "https://localhost:8080/"
        },
        "id": "dIThnadnWC3i",
        "outputId": "db1064ff-d545-429f-99c0-a33d132c6ac3"
      },
      "execution_count": null,
      "outputs": [
        {
          "output_type": "execute_result",
          "data": {
            "text/plain": [
              "4"
            ]
          },
          "metadata": {},
          "execution_count": 17
        }
      ]
    },
    {
      "cell_type": "code",
      "source": [
        "b[:,1,:]"
      ],
      "metadata": {
        "colab": {
          "base_uri": "https://localhost:8080/"
        },
        "id": "5nomubpSWP8R",
        "outputId": "28cd13e3-1092-4059-ac12-9bb218f7fdf0"
      },
      "execution_count": null,
      "outputs": [
        {
          "output_type": "execute_result",
          "data": {
            "text/plain": [
              "array([[3, 4],\n",
              "       [7, 8]])"
            ]
          },
          "metadata": {},
          "execution_count": 18
        }
      ]
    },
    {
      "cell_type": "markdown",
      "source": [
        "\n",
        "\n",
        "# Initializing Different Types of Arrays\n",
        "```\n"
      ],
      "metadata": {
        "id": "IE048JglZtXG"
      }
    },
    {
      "cell_type": "code",
      "source": [
        "#All 0s matrix\n",
        "np.zeros(5)"
      ],
      "metadata": {
        "colab": {
          "base_uri": "https://localhost:8080/"
        },
        "id": "raNAFCNPZ8jz",
        "outputId": "b9a9057f-02eb-45c0-e0ee-5e30d3bb052b"
      },
      "execution_count": null,
      "outputs": [
        {
          "output_type": "execute_result",
          "data": {
            "text/plain": [
              "array([0., 0., 0., 0., 0.])"
            ]
          },
          "metadata": {},
          "execution_count": 19
        }
      ]
    },
    {
      "cell_type": "code",
      "source": [
        "np.zeros((2,3,3))"
      ],
      "metadata": {
        "colab": {
          "base_uri": "https://localhost:8080/"
        },
        "id": "EeaL0M4HaNFJ",
        "outputId": "51930830-8b5d-49a7-e4ca-31ba31fba880"
      },
      "execution_count": null,
      "outputs": [
        {
          "output_type": "execute_result",
          "data": {
            "text/plain": [
              "array([[[0., 0., 0.],\n",
              "        [0., 0., 0.],\n",
              "        [0., 0., 0.]],\n",
              "\n",
              "       [[0., 0., 0.],\n",
              "        [0., 0., 0.],\n",
              "        [0., 0., 0.]]])"
            ]
          },
          "metadata": {},
          "execution_count": 20
        }
      ]
    },
    {
      "cell_type": "code",
      "source": [
        "#All 1s matrix\n",
        "np.ones((2,2), dtype='int32')"
      ],
      "metadata": {
        "colab": {
          "base_uri": "https://localhost:8080/"
        },
        "id": "gf6OgoQhaRKa",
        "outputId": "994b99ce-0393-494b-df3e-b7af6b50b5ac"
      },
      "execution_count": null,
      "outputs": [
        {
          "output_type": "execute_result",
          "data": {
            "text/plain": [
              "array([[1, 1],\n",
              "       [1, 1]], dtype=int32)"
            ]
          },
          "metadata": {},
          "execution_count": 21
        }
      ]
    },
    {
      "cell_type": "code",
      "source": [
        "#Any other number\n",
        "np.full( (2,2),5 )"
      ],
      "metadata": {
        "colab": {
          "base_uri": "https://localhost:8080/"
        },
        "id": "5SlUxtgDaYSK",
        "outputId": "7a966899-3273-49f1-caff-67460907d98c"
      },
      "execution_count": null,
      "outputs": [
        {
          "output_type": "execute_result",
          "data": {
            "text/plain": [
              "array([[5, 5],\n",
              "       [5, 5]])"
            ]
          },
          "metadata": {},
          "execution_count": 22
        }
      ]
    },
    {
      "cell_type": "code",
      "source": [
        "#Any other number(full_like)\n",
        "print(a)\n",
        "c = np.full_like(a,8)\n",
        "c"
      ],
      "metadata": {
        "colab": {
          "base_uri": "https://localhost:8080/"
        },
        "id": "uEG-27sIakxi",
        "outputId": "f460a0e4-fcea-4f34-82a6-395094e2e717"
      },
      "execution_count": null,
      "outputs": [
        {
          "output_type": "stream",
          "name": "stdout",
          "text": [
            "[[ 1  2  1  4  5  6  7]\n",
            " [ 8  9  2 11 12 20 14]]\n"
          ]
        },
        {
          "output_type": "execute_result",
          "data": {
            "text/plain": [
              "array([[8, 8, 8, 8, 8, 8, 8],\n",
              "       [8, 8, 8, 8, 8, 8, 8]])"
            ]
          },
          "metadata": {},
          "execution_count": 23
        }
      ]
    },
    {
      "cell_type": "code",
      "source": [
        "#Random decimal numbers\n",
        "np.random.rand(4,2,3)"
      ],
      "metadata": {
        "colab": {
          "base_uri": "https://localhost:8080/"
        },
        "id": "yklh4cZMauUC",
        "outputId": "056b8bad-d973-4af2-fc54-6e156abccf39"
      },
      "execution_count": null,
      "outputs": [
        {
          "output_type": "execute_result",
          "data": {
            "text/plain": [
              "array([[[0.18115721, 0.86310094, 0.54844496],\n",
              "        [0.87231781, 0.77661254, 0.56741538]],\n",
              "\n",
              "       [[0.03067793, 0.799136  , 0.96834783],\n",
              "        [0.57496467, 0.55637763, 0.86703813]],\n",
              "\n",
              "       [[0.44878656, 0.3119083 , 0.71362909],\n",
              "        [0.0800139 , 0.21812481, 0.29338517]],\n",
              "\n",
              "       [[0.75005417, 0.87869373, 0.03985425],\n",
              "        [0.24206546, 0.93507774, 0.83930536]]])"
            ]
          },
          "metadata": {},
          "execution_count": 24
        }
      ]
    },
    {
      "cell_type": "code",
      "source": [
        "np.random.random_sample(a.shape)"
      ],
      "metadata": {
        "colab": {
          "base_uri": "https://localhost:8080/"
        },
        "id": "oqcSQRjxbEVh",
        "outputId": "24840f13-3e1d-4fee-fc60-2916bdf069f4"
      },
      "execution_count": null,
      "outputs": [
        {
          "output_type": "execute_result",
          "data": {
            "text/plain": [
              "array([[0.10752584, 0.50472788, 0.21811779, 0.70139071, 0.37359723,\n",
              "        0.42440672, 0.34064757],\n",
              "       [0.13385035, 0.35899928, 0.28765144, 0.51615738, 0.67666053,\n",
              "        0.6870125 , 0.33141093]])"
            ]
          },
          "metadata": {},
          "execution_count": 25
        }
      ]
    },
    {
      "cell_type": "code",
      "source": [
        "#Random Integer values\n",
        "np.random.randint(-4,6, size=(3,3,2))"
      ],
      "metadata": {
        "colab": {
          "base_uri": "https://localhost:8080/"
        },
        "id": "aajXWgodbPLZ",
        "outputId": "9d234735-4755-49ba-8b78-cd062c7ce537"
      },
      "execution_count": null,
      "outputs": [
        {
          "output_type": "execute_result",
          "data": {
            "text/plain": [
              "array([[[ 5, -2],\n",
              "        [ 3,  0],\n",
              "        [-1, -4]],\n",
              "\n",
              "       [[ 4, -2],\n",
              "        [ 2,  0],\n",
              "        [-3,  2]],\n",
              "\n",
              "       [[ 3,  0],\n",
              "        [ 1, -4],\n",
              "        [ 4,  1]]])"
            ]
          },
          "metadata": {},
          "execution_count": 26
        }
      ]
    },
    {
      "cell_type": "code",
      "source": [
        "np.identity(5)"
      ],
      "metadata": {
        "colab": {
          "base_uri": "https://localhost:8080/"
        },
        "id": "D4aFOENQbbtp",
        "outputId": "f1b23491-868a-4f11-e2fd-47da35f8863c"
      },
      "execution_count": null,
      "outputs": [
        {
          "output_type": "execute_result",
          "data": {
            "text/plain": [
              "array([[1., 0., 0., 0., 0.],\n",
              "       [0., 1., 0., 0., 0.],\n",
              "       [0., 0., 1., 0., 0.],\n",
              "       [0., 0., 0., 1., 0.],\n",
              "       [0., 0., 0., 0., 1.]])"
            ]
          },
          "metadata": {},
          "execution_count": 27
        }
      ]
    },
    {
      "cell_type": "code",
      "source": [
        "#Repeat an array\n",
        "arr = np.array([[1,2,3]])\n",
        "r1 = np.repeat(arr, 3, axis=0)\n",
        "r1"
      ],
      "metadata": {
        "colab": {
          "base_uri": "https://localhost:8080/"
        },
        "id": "0OU-2BLxbviS",
        "outputId": "930187b7-bd8b-4110-f68d-a57f88e95392"
      },
      "execution_count": null,
      "outputs": [
        {
          "output_type": "execute_result",
          "data": {
            "text/plain": [
              "array([[1, 2, 3],\n",
              "       [1, 2, 3],\n",
              "       [1, 2, 3]])"
            ]
          },
          "metadata": {},
          "execution_count": 28
        }
      ]
    },
    {
      "cell_type": "markdown",
      "source": [
        "<h1> Initialize Array Problem </h1>"
      ],
      "metadata": {
        "id": "if_Gbc6vcRPu"
      }
    },
    {
      "cell_type": "code",
      "source": [
        "custom = np.ones((5,5), dtype='int32')\n",
        "custom[1:4,1:4] = 0\n",
        "custom[2,2] = 9\n",
        "custom"
      ],
      "metadata": {
        "id": "en2boxFscBYh",
        "colab": {
          "base_uri": "https://localhost:8080/"
        },
        "outputId": "835f7950-c95c-4d70-926e-e9e811cbd46b"
      },
      "execution_count": null,
      "outputs": [
        {
          "output_type": "execute_result",
          "data": {
            "text/plain": [
              "array([[1, 1, 1, 1, 1],\n",
              "       [1, 0, 0, 0, 1],\n",
              "       [1, 0, 9, 0, 1],\n",
              "       [1, 0, 0, 0, 1],\n",
              "       [1, 1, 1, 1, 1]], dtype=int32)"
            ]
          },
          "metadata": {},
          "execution_count": 36
        }
      ]
    },
    {
      "cell_type": "markdown",
      "source": [
        "#Be careful with copying arrays\n",
        "\n",
        "\n",
        "\n"
      ],
      "metadata": {
        "id": "8k3OW5cFUPwv"
      }
    },
    {
      "cell_type": "code",
      "source": [
        "a = np.array([1,2,3])\n",
        "b = a\n",
        "b[0] = 100\n",
        "\n",
        "print(a)"
      ],
      "metadata": {
        "colab": {
          "base_uri": "https://localhost:8080/"
        },
        "id": "IAPeqRw4TEnk",
        "outputId": "c47bd5c4-bffa-45bc-9270-83a13a9ef4be"
      },
      "execution_count": null,
      "outputs": [
        {
          "output_type": "stream",
          "name": "stdout",
          "text": [
            "[100   2   3]\n"
          ]
        }
      ]
    },
    {
      "cell_type": "code",
      "source": [
        "#To ovid this\n",
        "\n",
        "a = np.array([1,2,3])\n",
        "b = a.copy()\n",
        "b[0] = 100\n",
        "print(a)"
      ],
      "metadata": {
        "colab": {
          "base_uri": "https://localhost:8080/"
        },
        "id": "Bl0EKlViTQNX",
        "outputId": "e2750c62-6048-45f7-db0c-71fbf2ec6a42"
      },
      "execution_count": null,
      "outputs": [
        {
          "output_type": "stream",
          "name": "stdout",
          "text": [
            "[1 2 3]\n"
          ]
        }
      ]
    },
    {
      "cell_type": "markdown",
      "source": [
        "#Mathematics"
      ],
      "metadata": {
        "id": "LJr-UgKdUFYC"
      }
    },
    {
      "cell_type": "code",
      "source": [
        "a = np.array([1,2,3,4])\n",
        "a"
      ],
      "metadata": {
        "colab": {
          "base_uri": "https://localhost:8080/"
        },
        "id": "r42EZhAtUIpC",
        "outputId": "cf5c4a4c-a872-424c-90c4-c7f1e4ebd0df"
      },
      "execution_count": null,
      "outputs": [
        {
          "output_type": "execute_result",
          "data": {
            "text/plain": [
              "array([1, 2, 3, 4])"
            ]
          },
          "metadata": {},
          "execution_count": 43
        }
      ]
    },
    {
      "cell_type": "code",
      "source": [
        "a + 2"
      ],
      "metadata": {
        "colab": {
          "base_uri": "https://localhost:8080/"
        },
        "id": "BRwXhhj4UZIR",
        "outputId": "0264d71f-7683-4060-d714-888e8a2878cf"
      },
      "execution_count": null,
      "outputs": [
        {
          "output_type": "execute_result",
          "data": {
            "text/plain": [
              "array([3, 4, 5, 6])"
            ]
          },
          "metadata": {},
          "execution_count": 44
        }
      ]
    },
    {
      "cell_type": "code",
      "source": [
        "a - 2"
      ],
      "metadata": {
        "colab": {
          "base_uri": "https://localhost:8080/"
        },
        "id": "1YMH7E3vUbmY",
        "outputId": "17503886-f28b-4352-bdca-d70c0ab0fcc8"
      },
      "execution_count": null,
      "outputs": [
        {
          "output_type": "execute_result",
          "data": {
            "text/plain": [
              "array([-1,  0,  1,  2])"
            ]
          },
          "metadata": {},
          "execution_count": 45
        }
      ]
    },
    {
      "cell_type": "code",
      "source": [
        "a * 2"
      ],
      "metadata": {
        "colab": {
          "base_uri": "https://localhost:8080/"
        },
        "id": "ZoK-0n-0UeHR",
        "outputId": "437d1392-dc52-4307-f16f-868932adbc9c"
      },
      "execution_count": null,
      "outputs": [
        {
          "output_type": "execute_result",
          "data": {
            "text/plain": [
              "array([2, 4, 6, 8])"
            ]
          },
          "metadata": {},
          "execution_count": 46
        }
      ]
    },
    {
      "cell_type": "code",
      "source": [
        "a / 2"
      ],
      "metadata": {
        "colab": {
          "base_uri": "https://localhost:8080/"
        },
        "id": "sWXd_AgpUfIJ",
        "outputId": "a00c4562-6f21-4d12-a1cb-1a2d60f96b97"
      },
      "execution_count": null,
      "outputs": [
        {
          "output_type": "execute_result",
          "data": {
            "text/plain": [
              "array([0.5, 1. , 1.5, 2. ])"
            ]
          },
          "metadata": {},
          "execution_count": 47
        }
      ]
    },
    {
      "cell_type": "code",
      "source": [
        "a+= 2\n",
        "a"
      ],
      "metadata": {
        "colab": {
          "base_uri": "https://localhost:8080/"
        },
        "id": "DSoc0lNgUiVI",
        "outputId": "1a9fa7c2-1240-44f8-c09c-cfa350a2b91c"
      },
      "execution_count": null,
      "outputs": [
        {
          "output_type": "execute_result",
          "data": {
            "text/plain": [
              "array([ 9, 10, 11, 12])"
            ]
          },
          "metadata": {},
          "execution_count": 51
        }
      ]
    },
    {
      "cell_type": "code",
      "source": [
        "np.cos(a)"
      ],
      "metadata": {
        "colab": {
          "base_uri": "https://localhost:8080/"
        },
        "id": "uPVgc5MobJNj",
        "outputId": "a4fd2019-5741-4d19-b259-21aa16e524e0"
      },
      "execution_count": null,
      "outputs": [
        {
          "output_type": "execute_result",
          "data": {
            "text/plain": [
              "array([-0.91113026, -0.83907153,  0.0044257 ,  0.84385396])"
            ]
          },
          "metadata": {},
          "execution_count": 56
        }
      ]
    },
    {
      "cell_type": "code",
      "source": [
        "b = np.array([1,2,3,4])\n",
        "a**b"
      ],
      "metadata": {
        "colab": {
          "base_uri": "https://localhost:8080/"
        },
        "id": "eD_zRUW8bKku",
        "outputId": "ce3c2faf-664c-457f-9d98-ec4d476091f0"
      },
      "execution_count": null,
      "outputs": [
        {
          "output_type": "execute_result",
          "data": {
            "text/plain": [
              "array([    9,   100,  1331, 20736])"
            ]
          },
          "metadata": {},
          "execution_count": 57
        }
      ]
    },
    {
      "cell_type": "markdown",
      "source": [
        "#linear Algebra"
      ],
      "metadata": {
        "id": "CEn4LarybSzG"
      }
    },
    {
      "cell_type": "code",
      "source": [
        "a = np.ones((1,3))\n",
        "print(a)\n",
        "\n",
        "b = np.full((3,1),2)\n",
        "print(b)\n",
        "\n",
        "np.matmul(a,b)"
      ],
      "metadata": {
        "colab": {
          "base_uri": "https://localhost:8080/"
        },
        "id": "o2OCLqwabRZm",
        "outputId": "526bfccc-015b-405d-acad-48f95b9f5607"
      },
      "execution_count": null,
      "outputs": [
        {
          "output_type": "stream",
          "name": "stdout",
          "text": [
            "[[1. 1. 1.]]\n",
            "[[2]\n",
            " [2]\n",
            " [2]]\n"
          ]
        },
        {
          "output_type": "execute_result",
          "data": {
            "text/plain": [
              "array([[6.]])"
            ]
          },
          "metadata": {},
          "execution_count": 61
        }
      ]
    },
    {
      "cell_type": "code",
      "source": [
        "c = np.identity(3)\n",
        "np.linalg.det(c)"
      ],
      "metadata": {
        "colab": {
          "base_uri": "https://localhost:8080/"
        },
        "id": "Z9popyL5bltH",
        "outputId": "3087510e-ca65-4440-fe45-d0c1767292a5"
      },
      "execution_count": null,
      "outputs": [
        {
          "output_type": "execute_result",
          "data": {
            "text/plain": [
              "1.0"
            ]
          },
          "metadata": {},
          "execution_count": 62
        }
      ]
    },
    {
      "cell_type": "code",
      "source": [
        "#Calculate\n",
        "#Determinant\n",
        "#Trace\n",
        "#Inverse"
      ],
      "metadata": {
        "id": "rmzrKDOYb7gl"
      },
      "execution_count": null,
      "outputs": []
    },
    {
      "cell_type": "markdown",
      "source": [
        "#Statistics"
      ],
      "metadata": {
        "id": "k16zEO8tcIFN"
      }
    },
    {
      "cell_type": "code",
      "source": [
        "stats = np.array([[1,2,3],[4,5,6,]])\n",
        "stats"
      ],
      "metadata": {
        "colab": {
          "base_uri": "https://localhost:8080/"
        },
        "id": "FJ6qGrCOcLdP",
        "outputId": "22442753-d6ee-437c-c049-c5d263f2e777"
      },
      "execution_count": null,
      "outputs": [
        {
          "output_type": "execute_result",
          "data": {
            "text/plain": [
              "array([[1, 2, 3],\n",
              "       [4, 5, 6]])"
            ]
          },
          "metadata": {},
          "execution_count": 63
        }
      ]
    },
    {
      "cell_type": "code",
      "source": [
        "from re import S\n",
        "np.min(stats, axis= 1)"
      ],
      "metadata": {
        "colab": {
          "base_uri": "https://localhost:8080/"
        },
        "id": "S3OUsuJwcTEi",
        "outputId": "14135ad0-f423-4534-aab3-330c454435d9"
      },
      "execution_count": null,
      "outputs": [
        {
          "output_type": "execute_result",
          "data": {
            "text/plain": [
              "array([1, 4])"
            ]
          },
          "metadata": {},
          "execution_count": 65
        }
      ]
    },
    {
      "cell_type": "code",
      "source": [
        "np.max(stats,  axis=0)"
      ],
      "metadata": {
        "colab": {
          "base_uri": "https://localhost:8080/"
        },
        "id": "niI9ji1ycYS_",
        "outputId": "464b9738-a91a-46cd-a278-4190fa456bce"
      },
      "execution_count": null,
      "outputs": [
        {
          "output_type": "execute_result",
          "data": {
            "text/plain": [
              "array([4, 5, 6])"
            ]
          },
          "metadata": {},
          "execution_count": 66
        }
      ]
    },
    {
      "cell_type": "markdown",
      "source": [
        "#Reorganizing Arrays"
      ],
      "metadata": {
        "id": "GelB63bBcrPh"
      }
    },
    {
      "cell_type": "code",
      "source": [
        "before = np.array([[1,2,3,4], [4,5,6,7]])\n",
        "print(before)\n",
        "\n",
        "after = before.reshape((8,1))\n",
        "print(after)\n",
        "\n",
        "after = before.reshape((2,2,2))\n",
        "print(after)\n",
        "\n",
        "\n",
        "#This will work if the number of elements is coherent with thw new shape"
      ],
      "metadata": {
        "colab": {
          "base_uri": "https://localhost:8080/"
        },
        "id": "00nZ9-JcchD2",
        "outputId": "6c2a9c1d-fe49-47aa-8e03-e2563508e827"
      },
      "execution_count": null,
      "outputs": [
        {
          "output_type": "stream",
          "name": "stdout",
          "text": [
            "[[1 2 3 4]\n",
            " [4 5 6 7]]\n",
            "[[1]\n",
            " [2]\n",
            " [3]\n",
            " [4]\n",
            " [4]\n",
            " [5]\n",
            " [6]\n",
            " [7]]\n",
            "[[[1 2]\n",
            "  [3 4]]\n",
            "\n",
            " [[4 5]\n",
            "  [6 7]]]\n"
          ]
        }
      ]
    },
    {
      "cell_type": "code",
      "source": [
        "#Vertically stacking vectors (dimensiom is important)\n",
        "\n",
        "v1 = np.array([1,2,3,4])\n",
        "v2 = np.array([4,5,6,7])\n",
        "\n",
        "v3 = np.vstack([v1,v2,v1,v2])\n",
        "v3"
      ],
      "metadata": {
        "colab": {
          "base_uri": "https://localhost:8080/"
        },
        "id": "eGZHjCBUc_1W",
        "outputId": "07110e95-964e-40cc-850f-56b3d6900bb8"
      },
      "execution_count": null,
      "outputs": [
        {
          "output_type": "execute_result",
          "data": {
            "text/plain": [
              "array([[1, 2, 3, 4],\n",
              "       [4, 5, 6, 7],\n",
              "       [1, 2, 3, 4],\n",
              "       [4, 5, 6, 7]])"
            ]
          },
          "metadata": {},
          "execution_count": 70
        }
      ]
    },
    {
      "cell_type": "code",
      "source": [
        "#Horizontal stack\n",
        "h1 = np.ones((2,4))\n",
        "h2 = np.zeros((2,1))\n",
        "\n",
        "h3 = np.hstack([h1,h2])\n",
        "h3"
      ],
      "metadata": {
        "colab": {
          "base_uri": "https://localhost:8080/"
        },
        "id": "komyRElldmBu",
        "outputId": "01143b45-9de2-4add-a344-134f4cb1edd8"
      },
      "execution_count": null,
      "outputs": [
        {
          "output_type": "execute_result",
          "data": {
            "text/plain": [
              "array([[1., 1., 1., 1., 0.],\n",
              "       [1., 1., 1., 1., 0.]])"
            ]
          },
          "metadata": {},
          "execution_count": 73
        }
      ]
    },
    {
      "cell_type": "markdown",
      "source": [
        "#Miscellaneous\n",
        "#####Loading Data and Advanced Indexing"
      ],
      "metadata": {
        "id": "LsQzLqVpee9i"
      }
    },
    {
      "cell_type": "code",
      "source": [
        "#np.genfromtxt('filename', delimiter=',')\n",
        "#filedata.astype('int32')"
      ],
      "metadata": {
        "id": "IsvzNn8yeJU2"
      },
      "execution_count": null,
      "outputs": []
    },
    {
      "cell_type": "markdown",
      "source": [
        "#####Boolean Masking and Avanced Indexing"
      ],
      "metadata": {
        "id": "l7ysv__KgF1V"
      }
    },
    {
      "cell_type": "code",
      "source": [
        "v = np.array([1,2,3,4,5,6])"
      ],
      "metadata": {
        "id": "Z4PCi4Erfrmu"
      },
      "execution_count": null,
      "outputs": []
    },
    {
      "cell_type": "code",
      "source": [
        "v > 4"
      ],
      "metadata": {
        "colab": {
          "base_uri": "https://localhost:8080/"
        },
        "id": "AeLN29DqgRTY",
        "outputId": "11d54751-5982-4c67-f591-0bb44eb3d02b"
      },
      "execution_count": null,
      "outputs": [
        {
          "output_type": "execute_result",
          "data": {
            "text/plain": [
              "array([False, False, False, False,  True,  True])"
            ]
          },
          "metadata": {},
          "execution_count": 79
        }
      ]
    },
    {
      "cell_type": "code",
      "source": [
        "v[ v > 4]"
      ],
      "metadata": {
        "colab": {
          "base_uri": "https://localhost:8080/"
        },
        "id": "hLFYtuPvgWLV",
        "outputId": "24c56156-1960-439f-92b2-ea749a64a5a9"
      },
      "execution_count": null,
      "outputs": [
        {
          "output_type": "execute_result",
          "data": {
            "text/plain": [
              "array([5, 6])"
            ]
          },
          "metadata": {},
          "execution_count": 80
        }
      ]
    },
    {
      "cell_type": "code",
      "source": [
        "#You can index with a list in NumPY"
      ],
      "metadata": {
        "id": "Z9123DmBgYL2"
      },
      "execution_count": null,
      "outputs": []
    },
    {
      "cell_type": "code",
      "source": [
        "lis = [1,4,2,1]\n",
        "v[lis]"
      ],
      "metadata": {
        "colab": {
          "base_uri": "https://localhost:8080/"
        },
        "id": "7OodUgRkgefs",
        "outputId": "d635de4b-2e01-46b0-d9a2-94413043643b"
      },
      "execution_count": null,
      "outputs": [
        {
          "output_type": "execute_result",
          "data": {
            "text/plain": [
              "array([2, 5, 3, 2])"
            ]
          },
          "metadata": {},
          "execution_count": 82
        }
      ]
    },
    {
      "cell_type": "markdown",
      "source": [
        "![image_2023-07-30_133612330.png](data:image/png;base64,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)"
      ],
      "metadata": {
        "id": "bCNM-ryRgw5X"
      }
    },
    {
      "cell_type": "code",
      "source": [],
      "metadata": {
        "id": "mcKC9nA4hDzd"
      },
      "execution_count": null,
      "outputs": []
    }
  ]
}