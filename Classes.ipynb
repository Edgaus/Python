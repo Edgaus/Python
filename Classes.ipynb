{
 "cells": [
  {
   "attachments": {},
   "cell_type": "markdown",
   "metadata": {},
   "source": [
    "Classes and Instances"
   ]
  },
  {
   "attachments": {},
   "cell_type": "markdown",
   "metadata": {},
   "source": [
    "Classes are used like blueprints for us to use to assing data especific values not manual. Like for example a company that wants to assign data to their employees."
   ]
  },
  {
   "cell_type": "code",
   "execution_count": null,
   "metadata": {},
   "outputs": [],
   "source": [
    "#Example of a class that is empty, if we dont put pass it will happend to be an error\n",
    "class Employee:\n",
    "    pass\n",
    "\n",
    "#Instance variables contain Data that is unique to each instance. For example\n",
    "\n",
    "emp_1 = Employee()\n",
    "emp_2 = Employee()\n",
    "\n",
    "emp_1, emp_2\n",
    "\n",
    "#You can see that there are different locations for them"
   ]
  },
  {
   "attachments": {},
   "cell_type": "markdown",
   "metadata": {},
   "source": [
    "Usually if we want to asociate information of employees we would do the following, as you can see it is tedious and slow"
   ]
  },
  {
   "cell_type": "code",
   "execution_count": null,
   "metadata": {},
   "outputs": [],
   "source": [
    "emp_1.first = 'Corey'\n",
    "emp_1.last = 'Schafer'\n",
    "emp_1.email = 'Corey.Schafer@company.com'\n",
    "emp_1.pay = 50000\n",
    "\n",
    "emp_2.first = 'Edgar'\n",
    "emp_2.last = 'Contreras'\n",
    "emp_2.email = 'Edgar.Contreras@company.com'\n",
    "emp_2.pay = 65000\n",
    "\n",
    "\n",
    "emp_1.first, emp_2.first, emp_1.last, emp_2.last, \"....\""
   ]
  },
  {
   "attachments": {},
   "cell_type": "markdown",
   "metadata": {},
   "source": [
    "Now lets use Classes"
   ]
  },
  {
   "cell_type": "code",
   "execution_count": null,
   "metadata": {},
   "outputs": [],
   "source": [
    "class Employee:\n",
    "\n",
    "    def __init__(self, first, last, pay):\n",
    "        self.first = first\n",
    "        self.last = last\n",
    "        self.pay = pay\n",
    "        self.email = first + '.' + last + '@company.com'\n"
   ]
  },
  {
   "attachments": {},
   "cell_type": "markdown",
   "metadata": {},
   "source": [
    "Now init is a method that it will create the first we call it, the 'self' is the space where we are assgning information, in the other celd self is emp_1 or emp_2, so if we see it will assign the same information that before, it saves the fact of have to write much less lines of code, of course we cannot scape the fact of putting the information of the employee bue this manner is much more simple, and we can see that we can make operations"
   ]
  },
  {
   "cell_type": "code",
   "execution_count": null,
   "metadata": {},
   "outputs": [],
   "source": [
    "emp_test = Employee('Test_name','Taste_last',54)\n",
    "emp_test.first, emp_test.email "
   ]
  },
  {
   "attachments": {},
   "cell_type": "markdown",
   "metadata": {},
   "source": [
    "What if we want the full name, we would usually call the methos first and last and then add them, but we can do it better by making a function within the class everytime we call it, now this funcion it will need anargument self"
   ]
  },
  {
   "cell_type": "code",
   "execution_count": null,
   "metadata": {},
   "outputs": [],
   "source": [
    "class Employee2:\n",
    "\n",
    "    def __init__(self, first, last, pay):\n",
    "        self.first = first\n",
    "        self.last = last\n",
    "        self.pay = pay\n",
    "        self.email = first + '.' + last + '@company.com'\n",
    "\n",
    "    def fullname(self):\n",
    "        return '{}{}'.format(self.first,self.last)"
   ]
  },
  {
   "cell_type": "code",
   "execution_count": null,
   "metadata": {},
   "outputs": [],
   "source": [
    "emp_test = Employee2('Test_name','Taste_last',54)\n",
    "emp_test.fullname()"
   ]
  },
  {
   "attachments": {},
   "cell_type": "markdown",
   "metadata": {},
   "source": [
    "So we can see that in the backgroud, what it is happening is this"
   ]
  },
  {
   "cell_type": "code",
   "execution_count": null,
   "metadata": {},
   "outputs": [],
   "source": [
    "Employee2.fullname(emp_test)"
   ]
  },
  {
   "cell_type": "markdown",
   "metadata": {},
   "source": []
  }
 ],
 "metadata": {
  "kernelspec": {
   "display_name": "Python 3",
   "language": "python",
   "name": "python3"
  },
  "language_info": {
   "codemirror_mode": {
    "name": "ipython",
    "version": 3
   },
   "file_extension": ".py",
   "mimetype": "text/x-python",
   "name": "python",
   "nbconvert_exporter": "python",
   "pygments_lexer": "ipython3",
   "version": "3.9.13"
  },
  "orig_nbformat": 4,
  "vscode": {
   "interpreter": {
    "hash": "b57df26b007419e9226b0680b0fedaa057aa5de0edc0629c9ca0b5db7b90c6a0"
   }
  }
 },
 "nbformat": 4,
 "nbformat_minor": 2
}
