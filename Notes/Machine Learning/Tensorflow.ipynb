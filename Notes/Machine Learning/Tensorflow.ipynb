{
 "cells": [
  {
   "cell_type": "markdown",
   "metadata": {},
   "source": [
    "<h1> Introduction TensorFlow </h1>\n",
    "\n",
    "'A tensor is a generalization of vectors and matrices to potentially higher dimentions. Internally, TensorFlow represents tensors as n-dimentionals arrays of datatypes.' (https://www.tensorflow.org/guide/tensor)\n",
    "\n",
    "Tensorsd are the main object that are passed around manupulate throught the program. Each tensor represents a partialy defined computing that will eventually produce a value. TensorFlow programs work by building a graph of Tensor objects that details how tensors are related.\n",
    "\n",
    "Each tensor has a data type and a shape\n",
    "\n",
    "<b>Data Types Include </b>: float32, int32, string and others.\n",
    "\n",
    "<b> Shape </b>: Represents the dimension of data.\n"
   ]
  },
  {
   "cell_type": "markdown",
   "metadata": {},
   "source": [
    "<h3> Creating Tensors </h3>\n",
    "Below is an example of how to create some different tensors."
   ]
  },
  {
   "cell_type": "code",
   "execution_count": 1,
   "metadata": {},
   "outputs": [
    {
     "name": "stdout",
     "output_type": "stream",
     "text": [
      "2.12.1\n"
     ]
    }
   ],
   "source": [
    "import tensorflow as tf\n",
    "import numpy as np\n",
    "print(tf.__version__)"
   ]
  },
  {
   "cell_type": "code",
   "execution_count": 2,
   "metadata": {},
   "outputs": [],
   "source": [
    "string = tf.Variable('this is a string', tf.string)\n",
    "number = tf.Variable( 324, tf.int16  )\n",
    "floating = tf.Variable( 31.1416, tf.float64 )"
   ]
  },
  {
   "cell_type": "markdown",
   "metadata": {},
   "source": [
    "<h3> Rank/Degree of Tensors </h3>\n",
    "Another word for rank is degree, these terms simply mean the numbers of dimensions involved in the tensor. What we create above is a tensor of rank 0, also known as a scalar.\n",
    "\n",
    "Now, will create some tensors of higher degress/rank"
   ]
  },
  {
   "cell_type": "code",
   "execution_count": 3,
   "metadata": {},
   "outputs": [],
   "source": [
    "rank1_tensor = tf.Variable( ['test','ok', 'Tim'], tf.string  )\n",
    "rank2_tensor = tf.Variable( [['test','ok', 'Tim'], ['test','deploy', 'Tim']], tf.string  ) \n",
    "#Rank 2 because we have a list inside a list"
   ]
  },
  {
   "cell_type": "markdown",
   "metadata": {},
   "source": [
    "To determine the rank of a tensor we can call the fllowing method"
   ]
  },
  {
   "cell_type": "code",
   "execution_count": 4,
   "metadata": {},
   "outputs": [
    {
     "data": {
      "text/plain": [
       "<tf.Tensor: shape=(), dtype=int32, numpy=2>"
      ]
     },
     "execution_count": 4,
     "metadata": {},
     "output_type": "execute_result"
    }
   ],
   "source": [
    "tf.rank( rank2_tensor )"
   ]
  },
  {
   "cell_type": "markdown",
   "metadata": {},
   "source": [
    "<h3> Tensor Shapes </h3>\n",
    "Now that we've talked about of ranks of tensors it's time to talk about the shape. The shape is simply the amount of elemts that exist in each dimension. TensorFlow will try to determine but sometimes is unknown."
   ]
  },
  {
   "cell_type": "code",
   "execution_count": 5,
   "metadata": {},
   "outputs": [
    {
     "data": {
      "text/plain": [
       "TensorShape([2, 3])"
      ]
     },
     "execution_count": 5,
     "metadata": {},
     "output_type": "execute_result"
    }
   ],
   "source": [
    "rank2_tensor.shape #2 Lists with 3 elements."
   ]
  },
  {
   "cell_type": "markdown",
   "metadata": {},
   "source": [
    "<h3> Changing shape </h3>\n",
    "\n",
    "The number of elemnts of a tensor is the productt of the sizes of all its shape."
   ]
  },
  {
   "cell_type": "code",
   "execution_count": 6,
   "metadata": {},
   "outputs": [
    {
     "name": "stdout",
     "output_type": "stream",
     "text": [
      "tf.Tensor(\n",
      "[[[1. 1. 1.]\n",
      "  [1. 1. 1.]]], shape=(1, 2, 3), dtype=float32)\n",
      "tf.Tensor(\n",
      "[[[1.]\n",
      "  [1.]\n",
      "  [1.]]\n",
      "\n",
      " [[1.]\n",
      "  [1.]\n",
      "  [1.]]], shape=(2, 3, 1), dtype=float32)\n",
      "tf.Tensor(\n",
      "[[1. 1.]\n",
      " [1. 1.]\n",
      " [1. 1.]], shape=(3, 2), dtype=float32)\n"
     ]
    }
   ],
   "source": [
    "tensor1 = tf.ones([1,2,3])  #Creates a shape [1,2,3] tensor full of ones\n",
    "print(tensor1) \n",
    "tensor2 = tf.reshape(tensor1, [2,3,1] ) # reshape existing data to shape [2,3,1]\n",
    "print(tensor2)\n",
    "tensor3 = tf.reshape(tensor2, [3,-1]) #-1 tells the tensor to calculate the size of the dimentions in that place\n",
    "print(tensor3)                        # this will reshape tensor to [3,2]\n"
   ]
  },
  {
   "cell_type": "markdown",
   "metadata": {},
   "source": [
    "<h3> Types of Tensors </h3>\n",
    "\n",
    "Before we go far I will mention that are three different types of tensors. \n",
    "\n",
    "<ol>\n",
    "    <li> Vaiable </li>\n",
    "    <li> Constant </li>\n",
    "    <li> Placeholder </li>\n",
    "    <li> SparceTensor </li>\n",
    "</ol> \n",
    "\n",
    "With the exeption of Variable of all these tensors are inmutable, meaning their value may not change during execution. "
   ]
  },
  {
   "cell_type": "markdown",
   "metadata": {},
   "source": [
    "<h3> Evaluating Tensors </h3>\n",
    "\n",
    "There will be sometimes throught this guide that we need to evaluate a tensor. In other words, gets its value. Since tensorsd represnts partially complete computation, we will need to run what's a session to evaluate the tensor.\n",
    "\n",
    "There are many different ways to achieve this but I will note the simplest way below."
   ]
  },
  {
   "cell_type": "code",
   "execution_count": 12,
   "metadata": {},
   "outputs": [
    {
     "name": "stdout",
     "output_type": "stream",
     "text": [
      "[1 4 9]\n"
     ]
    }
   ],
   "source": [
    "with tf.compat.v1.Session() as sess:\n",
    "  constant = tf.constant([1, 2, 3])\n",
    "  tft = constant*constant\n",
    "  print(tft.eval())"
   ]
  },
  {
   "cell_type": "code",
   "execution_count": null,
   "metadata": {},
   "outputs": [
    {
     "data": {
      "text/plain": [
       "<tf.Tensor 'zeros:0' shape=(5, 5, 5, 5) dtype=float32>"
      ]
     },
     "execution_count": 42,
     "metadata": {},
     "output_type": "execute_result"
    }
   ],
   "source": [
    "t = tf.zeros([5,5,5,5])\n",
    "t = tf.reshape(t, [625])\n"
   ]
  },
  {
   "cell_type": "markdown",
   "metadata": {},
   "source": [
    "In the code above we evaluated the tensor variable that was stored in the default graph. It is possible to create our own separate graphs but for now we will stick with the default."
   ]
  },
  {
   "cell_type": "markdown",
   "metadata": {},
   "source": [
    "<h3> Sources </h3>\n",
    "\n",
    "https://www.tensorflow.org/api_docs/python/tf/Tensor\n",
    "https://stackoverflow.com/questions/58958713/evaluate-a-tensor-in-deferred-mode-in-tensorflow-2"
   ]
  }
 ],
 "metadata": {
  "kernelspec": {
   "display_name": "Python 3",
   "language": "python",
   "name": "python3"
  },
  "language_info": {
   "codemirror_mode": {
    "name": "ipython",
    "version": 3
   },
   "file_extension": ".py",
   "mimetype": "text/x-python",
   "name": "python",
   "nbconvert_exporter": "python",
   "pygments_lexer": "ipython3",
   "version": "3.9.13"
  },
  "orig_nbformat": 4
 },
 "nbformat": 4,
 "nbformat_minor": 2
}
