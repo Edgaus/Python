{
 "cells": [
  {
   "cell_type": "code",
   "execution_count": 3,
   "metadata": {},
   "outputs": [],
   "source": [
    "abs= 'With three words'\n",
    "\n",
    "\n",
    "import re\n",
    "\n"
   ]
  },
  {
   "cell_type": "code",
   "execution_count": 4,
   "metadata": {},
   "outputs": [
    {
     "name": "stdout",
     "output_type": "stream",
     "text": [
      "['csev@umich.edu', 'cwen@iupui.edu']\n"
     ]
    }
   ],
   "source": [
    "s = 'A message from csev@umich.edu to cwen@iupui.edu about meeting @2PM'\n",
    "lst = re.findall('\\\\S+@\\\\S+', s)\n",
    "print(lst)"
   ]
  },
  {
   "cell_type": "code",
   "execution_count": 8,
   "metadata": {},
   "outputs": [
    {
     "data": {
      "text/plain": [
       "['2 ', '9 ']"
      ]
     },
     "execution_count": 8,
     "metadata": {},
     "output_type": "execute_result"
    }
   ],
   "source": [
    "x='My 2 favorite numbers are 19 and 42' \n",
    "y=re.findall('[0-9] ',x)\n",
    "y"
   ]
  },
  {
   "attachments": {},
   "cell_type": "markdown",
   "metadata": {},
   "source": [
    "Greedy vs Non Greedy"
   ]
  },
  {
   "cell_type": "code",
   "execution_count": null,
   "metadata": {},
   "outputs": [],
   "source": [
    "#Non\n",
    "x='From: Using the : character'\n",
    "y=re.findall('^F.+?:',x)\n",
    "y"
   ]
  },
  {
   "cell_type": "markdown",
   "metadata": {},
   "source": []
  },
  {
   "cell_type": "code",
   "execution_count": null,
   "metadata": {},
   "outputs": [],
   "source": [
    "s = 'A message from csev@umich.edu to cwen@iupui.edu about meeting @2PM'\n",
    "lst = re.findall('\\\\S+@\\\\S+', s)\n",
    "print(lst)"
   ]
  },
  {
   "attachments": {},
   "cell_type": "markdown",
   "metadata": {},
   "source": [
    "Practical Applications"
   ]
  },
  {
   "cell_type": "code",
   "execution_count": null,
   "metadata": {},
   "outputs": [],
   "source": [
    "#Version 1\n",
    "\n",
    "data = 'From stephen.marquard@uct.ac.za Sat Jan 5 09:14:16 2008'\n",
    "atpos = data.find('@')\n",
    "print(atpos)\n",
    "\n",
    "sppos=data.find(' ',atpos)\n",
    "print(sppos)\n",
    "\n",
    "host = data[atpos+1 : sppos]\n",
    "print(host)"
   ]
  },
  {
   "cell_type": "code",
   "execution_count": null,
   "metadata": {},
   "outputs": [],
   "source": [
    "#Version 2\n",
    "\n",
    "line = 'From stephen.marquard@uct.ac.za Sat Jan 5 09:14:16 2008'\n",
    "words = line.split()\n",
    "email = words[1]\n",
    "email"
   ]
  },
  {
   "cell_type": "code",
   "execution_count": null,
   "metadata": {},
   "outputs": [],
   "source": [
    "#Version 3 (REGULAR EXPRESION)\n",
    "\n",
    "lin  = 'From stephen.marquard@uct.ac.za Sat Jan 5 09:14:16 2008'\n",
    "y=re.findall('@([^ ]*)',lin)\n",
    "print(y)\n",
    "\n",
    "#Redefine \n",
    "\n",
    "y=re.findall('From .*@([^ ]*)',lin)\n",
    "print(y)"
   ]
  },
  {
   "cell_type": "code",
   "execution_count": null,
   "metadata": {},
   "outputs": [],
   "source": [
    "x='We just recevied a $10.00 for cookies'\n",
    "y=re.findall('\\$[0-9.]+',x)\n",
    "print(y)"
   ]
  }
 ],
 "metadata": {
  "kernelspec": {
   "display_name": "Python 3",
   "language": "python",
   "name": "python3"
  },
  "language_info": {
   "codemirror_mode": {
    "name": "ipython",
    "version": 3
   },
   "file_extension": ".py",
   "mimetype": "text/x-python",
   "name": "python",
   "nbconvert_exporter": "python",
   "pygments_lexer": "ipython3",
   "version": "3.10.9 (tags/v3.10.9:1dd9be6, Dec  6 2022, 20:01:21) [MSC v.1934 64 bit (AMD64)]"
  },
  "orig_nbformat": 4,
  "vscode": {
   "interpreter": {
    "hash": "f8f5158ccd34285257a095f4cefa5dd842c8e9bc74f6721208fc4b9e982cd922"
   }
  }
 },
 "nbformat": 4,
 "nbformat_minor": 2
}
